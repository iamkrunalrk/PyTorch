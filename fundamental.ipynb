{
 "cells": [
  {
   "cell_type": "markdown",
   "metadata": {},
   "source": [
    "# PyTorch Setup And Installation\n",
    "\n",
    "## Step 1. Choose PyTorch version\n",
    "<br>\n",
    "\n",
    "**CPU Version**: Use this if you don't have a compatible NVIDIA GPU or you don't want to use GPU acceleration. It's a bit easier to set up.\n",
    "<br>\n",
    "\n",
    "**GPU Version (CUDA)**: If you have an NVIDIA GPU and want to leverage GPU acceleration for faster training, you'll need the GPU version. Make sure your GPU is CUDA-compatible"
   ]
  },
  {
   "cell_type": "markdown",
   "metadata": {},
   "source": [
    "## Step 2: Install PyTorch\n",
    "\n",
    "You can install PyTorch via `pip`. Visit the official PyTorch website (https://pytorch.org/) to find the installation command for your specific configuration. Here's an example of how to install the CPU version:\n",
    "\n",
    "`pip install torch`\n",
    "\n",
    "And for the GPU version:\n",
    "\n",
    "`pip install torch torchvision torchaudio`"
   ]
  },
  {
   "cell_type": "markdown",
   "metadata": {},
   "source": [
    "## Step 3: Varify the installation \n",
    "\n",
    "After installation, you should verify that PyTorch is correctly installed. You can do this by opening a Python interpreter or a Jupyter Notebook and running the following code:"
   ]
  },
  {
   "cell_type": "code",
   "execution_count": 1,
   "metadata": {},
   "outputs": [
    {
     "name": "stdout",
     "output_type": "stream",
     "text": [
      "1.13.1\n",
      "False\n"
     ]
    }
   ],
   "source": [
    "import torch\n",
    "\n",
    "# Check PyTorch version\n",
    "print(torch.__version__)\n",
    "\n",
    "# Check if CUDA (GPU support) is available\n",
    "print(torch.cuda.is_available())\n"
   ]
  },
  {
   "cell_type": "markdown",
   "metadata": {},
   "source": [
    "If everything is set up correctly, you should see the PyTorch version and `True` for GPU availability if you installed the GPU version or else `False`."
   ]
  },
  {
   "cell_type": "markdown",
   "metadata": {},
   "source": [
    "## Basic Usage of PyTorch Tensors\n",
    "\n",
    "Now that we have PyTorch installed, let's explore the fundamental data structure of PyTorch: \n",
    "\n",
    "### Tensors.\n",
    "\n",
    "A tensor is similar to a NumPy array but has additional capabilities to accelerate computation. Here's how you can create and work with PyTorch tensors:"
   ]
  },
  {
   "cell_type": "code",
   "execution_count": 2,
   "metadata": {},
   "outputs": [
    {
     "name": "stdout",
     "output_type": "stream",
     "text": [
      "tensor([1, 2, 3])\n"
     ]
    }
   ],
   "source": [
    "# Create a tensor\n",
    "tensor_a = torch.tensor([1,2,3])\n",
    "print(tensor_a)"
   ]
  },
  {
   "cell_type": "code",
   "execution_count": 5,
   "metadata": {},
   "outputs": [
    {
     "data": {
      "text/plain": [
       "tensor([5, 7, 9])"
      ]
     },
     "execution_count": 5,
     "metadata": {},
     "output_type": "execute_result"
    }
   ],
   "source": [
    "# Mathematical operation with tensor\n",
    "tensor_b = torch.tensor([4,5,6])\n",
    "\n",
    "# Addition\n",
    "sum_result = tensor_a + tensor_b\n",
    "sum_result"
   ]
  },
  {
   "cell_type": "code",
   "execution_count": 6,
   "metadata": {},
   "outputs": [
    {
     "data": {
      "text/plain": [
       "tensor([ 4, 10, 18])"
      ]
     },
     "execution_count": 6,
     "metadata": {},
     "output_type": "execute_result"
    }
   ],
   "source": [
    "# Element-wise Multiplication\n",
    "multiplication = tensor_a * tensor_b\n",
    "multiplication"
   ]
  },
  {
   "cell_type": "code",
   "execution_count": 8,
   "metadata": {},
   "outputs": [
    {
     "data": {
      "text/plain": [
       "tensor([[19, 22],\n",
       "        [43, 50]])"
      ]
     },
     "execution_count": 8,
     "metadata": {},
     "output_type": "execute_result"
    }
   ],
   "source": [
    "# Matrix-Multiplication (Dot Product)\n",
    "matrix_a = torch.tensor([[1,2],[3,4]])\n",
    "matrix_b = torch.tensor([[5,6],[7,8]])\n",
    "\n",
    "matrix_multi = torch.matmul(matrix_a, matrix_b)\n",
    "matrix_multi"
   ]
  },
  {
   "cell_type": "code",
   "execution_count": 10,
   "metadata": {},
   "outputs": [
    {
     "name": "stdout",
     "output_type": "stream",
     "text": [
      "torch.Size([3])\n",
      "torch.Size([2, 2])\n"
     ]
    }
   ],
   "source": [
    "# Tensor Shape and Size\n",
    "print(tensor_a.shape)       # Shape of 1D tensor\n",
    "print(matrix_a.shape)       # Shape of 2D tensor"
   ]
  },
  {
   "cell_type": "code",
   "execution_count": 14,
   "metadata": {},
   "outputs": [
    {
     "data": {
      "text/plain": [
       "tensor([1, 2, 3])"
      ]
     },
     "execution_count": 14,
     "metadata": {},
     "output_type": "execute_result"
    }
   ],
   "source": [
    "# Converting between NumPy array and PyTorch Tensor\n",
    "import numpy as np\n",
    "numpy_array = np.array([1,2,3])\n",
    "pytorch_tensor = torch.from_numpy(numpy_array)\n",
    "pytorch_tensor"
   ]
  },
  {
   "cell_type": "code",
   "execution_count": 15,
   "metadata": {},
   "outputs": [
    {
     "data": {
      "text/plain": [
       "array([1, 2, 3])"
      ]
     },
     "execution_count": 15,
     "metadata": {},
     "output_type": "execute_result"
    }
   ],
   "source": [
    "# Converting PyTorch array into NumPy array\n",
    "numpy_array_from_tensor = pytorch_tensor.numpy()\n",
    "numpy_array_from_tensor"
   ]
  }
 ],
 "metadata": {
  "kernelspec": {
   "display_name": "Python 3",
   "language": "python",
   "name": "python3"
  },
  "language_info": {
   "codemirror_mode": {
    "name": "ipython",
    "version": 3
   },
   "file_extension": ".py",
   "mimetype": "text/x-python",
   "name": "python",
   "nbconvert_exporter": "python",
   "pygments_lexer": "ipython3",
   "version": "3.10.12"
  }
 },
 "nbformat": 4,
 "nbformat_minor": 2
}

{
 "cells": [
  {
   "cell_type": "markdown",
   "metadata": {},
   "source": [
    "# Operators in PyTorch\n",
    "\n",
    "Basic tensor operations like addition, multiplication, and other mathematical operations are fundamental in PyTorch. In this explanation, we'll delve deep into these operations with detailed code examples."
   ]
  },
  {
   "cell_type": "markdown",
   "metadata": {},
   "source": [
    "### 1. Basic Tensor Operations in PyTorch\n",
    "\n",
    "PyTorch tensors support a wide range of basic mathematical operations, just like NumPy arrays. These operations are essential when working with data and building machine learning models."
   ]
  },
  {
   "cell_type": "code",
   "execution_count": 8,
   "metadata": {},
   "outputs": [
    {
     "name": "stdout",
     "output_type": "stream",
     "text": [
      "Element-wise Addition: tensor([ 5., 11.,  7.])\n",
      "Element-wise Subtraction: tensor([ 3.,  5., -3.])\n",
      "Element-wise Multiplication: tensor([ 4., 24., 10.])\n",
      "Element-wise Division: tensor([4.0000, 2.6667, 0.4000])\n"
     ]
    }
   ],
   "source": [
    "import torch\n",
    "\n",
    "# Create a tensor\n",
    "a = torch.tensor([1.0, 3.0, 5.0])\n",
    "b = torch.tensor([4.0, 8.0, 2.0])\n",
    "\n",
    "# Addition\n",
    "result_add = a + b # Element-wise\n",
    "print(f\"Element-wise Addition: {result_add}\")\n",
    "\n",
    "# Subtraction\n",
    "result_sub = b - a # Element-wise\n",
    "print(f\"Element-wise Subtraction: {result_sub}\")\n",
    "\n",
    "# Multiplication\n",
    "result_mult = a * b # Element-wise\n",
    "print(f\"Element-wise Multiplication: {result_mult}\")\n",
    "\n",
    "# Division\n",
    "result_div = b / a # Element-wise\n",
    "print(f\"Element-wise Division: {result_div}\")"
   ]
  },
  {
   "cell_type": "markdown",
   "metadata": {},
   "source": [
    "### 2. Element-wise Operations\n",
    "PyTorch supports various element-wise operations, such as exponentiation, square root, absolute value, etc."
   ]
  },
  {
   "cell_type": "code",
   "execution_count": 10,
   "metadata": {},
   "outputs": [
    {
     "name": "stdout",
     "output_type": "stream",
     "text": [
      "Exponentition Result: tensor([  2.7183,  20.0855, 148.4132])\n",
      "Square Root: tensor([2.0000, 2.8284, 1.4142])\n",
      "Absolute Value: tensor([1., 3., 5.])\n"
     ]
    }
   ],
   "source": [
    "# Exponentiation\n",
    "result_expo = torch.exp(a)\n",
    "print(f\"Exponentition Result: {result_expo}\")\n",
    "\n",
    "# Square Root\n",
    "result_sqrt = torch.sqrt(b)\n",
    "print(f\"Square Root: {result_sqrt}\")\n",
    "\n",
    "# Absolute values\n",
    "result_abs = torch.abs(a)\n",
    "print(f\"Absolute Value: {result_abs}\")"
   ]
  },
  {
   "cell_type": "markdown",
   "metadata": {},
   "source": [
    "### 3. Sum, Mean, Max\n",
    "\n",
    "You can compute the sum, mean, and maximum value of a tensor along specified dimensions."
   ]
  },
  {
   "cell_type": "code",
   "execution_count": 13,
   "metadata": {},
   "outputs": [
    {
     "name": "stdout",
     "output_type": "stream",
     "text": [
      "Sum of all elements: 21.0\n",
      "Mean along rows:  tensor([2., 5.])\n",
      "Max Along Columns: tensor([4., 5., 6.])\n",
      "Indices of max along columns: tensor([1, 1, 1])\n"
     ]
    }
   ],
   "source": [
    "# Create a tensor\n",
    "m = torch.tensor([[1.0, 2.0, 3.0],[4.0, 5.0, 6.0]])\n",
    "\n",
    "# Sum\n",
    "sum_tensor = torch.sum(m)\n",
    "print(f\"Sum of all elements: {sum_tensor}\")\n",
    "\n",
    "# Mean\n",
    "mean_tensor = torch.mean(m, dim=1) # mean along rows, dimension = 1\n",
    "print(f\"Mean along rows: \", mean_tensor)\n",
    "\n",
    "# Max\n",
    "max_tensor , argmax_indices = torch.max(m, dim=0) # max along column, dimension = 0\n",
    "print(f\"Max Along Columns: {max_tensor}\")\n",
    "print(f\"Indices of max along columns: {argmax_indices}\")"
   ]
  },
  {
   "cell_type": "markdown",
   "metadata": {},
   "source": [
    "### 4. Broadcasting\n",
    "PyTorch supports broadcasting, which allows you to perform operations on tensors of different shapes."
   ]
  },
  {
   "cell_type": "code",
   "execution_count": 14,
   "metadata": {},
   "outputs": [
    {
     "name": "stdout",
     "output_type": "stream",
     "text": [
      "Broadcast Result: tensor([ 3.,  9., 15.])\n"
     ]
    }
   ],
   "source": [
    "# Broadcasting with scalars\n",
    "scalar = torch.tensor(3.0)\n",
    "\n",
    "result_broadcast = a * scalar # Scalar is broadcast to match the shape of `a`\n",
    "print(f\"Broadcast Result: {result_broadcast}\")"
   ]
  },
  {
   "cell_type": "code",
   "execution_count": 15,
   "metadata": {},
   "outputs": [
    {
     "name": "stdout",
     "output_type": "stream",
     "text": [
      "Broadcast Result: tensor([[11, 22, 33],\n",
      "        [14, 25, 36]])\n"
     ]
    }
   ],
   "source": [
    "# Broadcasting with differently shaped tensors\n",
    "tensor_a = torch.tensor([[1,2,3], [4,5,6]])\n",
    "tensor_b = torch.tensor([10, 20, 30])\n",
    "\n",
    "result_broadcast2 = tensor_a + tensor_b  # 'tensor_b' is broadcast to match the shape of 'tensor_a'\n",
    "print(f\"Broadcast Result: {result_broadcast2}\")"
   ]
  }
 ],
 "metadata": {
  "kernelspec": {
   "display_name": "Python 3",
   "language": "python",
   "name": "python3"
  },
  "language_info": {
   "codemirror_mode": {
    "name": "ipython",
    "version": 3
   },
   "file_extension": ".py",
   "mimetype": "text/x-python",
   "name": "python",
   "nbconvert_exporter": "python",
   "pygments_lexer": "ipython3",
   "version": "3.10.12"
  }
 },
 "nbformat": 4,
 "nbformat_minor": 2
}

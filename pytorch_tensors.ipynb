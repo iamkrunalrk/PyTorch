{
 "cells": [
  {
   "cell_type": "markdown",
   "metadata": {},
   "source": [
    "# PyTorch Creation & Manipulation\n",
    "\n",
    "Tensors are the fundamental building blocks in PyTorch. They are similar to NumPy arrays but come with the added advantage of GPU acceleration for faster numerical computations. In this section, we'll explore various aspects of PyTorch tensors"
   ]
  },
  {
   "cell_type": "markdown",
   "metadata": {},
   "source": [
    "### 1. Creating Tensors from Data:\n",
    "You can create PyTorch tensors from Python lists, NumPy arrays, or other Python iterable objects."
   ]
  },
  {
   "cell_type": "code",
   "execution_count": 1,
   "metadata": {},
   "outputs": [
    {
     "name": "stdout",
     "output_type": "stream",
     "text": [
      "tensor([1, 2, 3, 4, 5, 6])\n"
     ]
    }
   ],
   "source": [
    "import torch\n",
    "\n",
    "# Creating a tensor from python list\n",
    "py_list = [1, 2, 3, 4, 5, 6]\n",
    "tensor_from_list = torch.tensor(py_list)\n",
    "print(tensor_from_list)"
   ]
  },
  {
   "cell_type": "code",
   "execution_count": 2,
   "metadata": {},
   "outputs": [
    {
     "name": "stdout",
     "output_type": "stream",
     "text": [
      "tensor([6, 7, 8, 9])\n"
     ]
    }
   ],
   "source": [
    "# Creating a tensor from NumPy array\n",
    "import numpy as np\n",
    "num_array = np.array([6,7,8,9])\n",
    "num_array_to_tensor = torch.tensor(num_array)\n",
    "print(num_array_to_tensor)"
   ]
  },
  {
   "cell_type": "markdown",
   "metadata": {},
   "source": [
    "### 2. Creating Tensors with Specific Values:\n",
    "\n",
    "You can create tensors with specific values or shapes using functions like `torch.zeros`, `torch.ones`, and `torch.rand`."
   ]
  },
  {
   "cell_type": "code",
   "execution_count": 3,
   "metadata": {},
   "outputs": [
    {
     "name": "stdout",
     "output_type": "stream",
     "text": [
      "tensor([[0., 0.],\n",
      "        [0., 0.],\n",
      "        [0., 0.]])\n"
     ]
    }
   ],
   "source": [
    "# Creating a tensor o zeros\n",
    "zeros_tensor = torch.zeros(3,2)\n",
    "print(zeros_tensor)"
   ]
  },
  {
   "cell_type": "code",
   "execution_count": 4,
   "metadata": {},
   "outputs": [
    {
     "name": "stdout",
     "output_type": "stream",
     "text": [
      "tensor([[1., 1., 1., 1.],\n",
      "        [1., 1., 1., 1.],\n",
      "        [1., 1., 1., 1.]])\n"
     ]
    }
   ],
   "source": [
    "# Creating a tensor of ones\n",
    "ones_tensor = torch.ones(3,4)\n",
    "print(ones_tensor)"
   ]
  },
  {
   "cell_type": "code",
   "execution_count": 5,
   "metadata": {},
   "outputs": [
    {
     "name": "stdout",
     "output_type": "stream",
     "text": [
      "tensor([[0.8092, 0.7742],\n",
      "        [0.3046, 0.0268]])\n"
     ]
    }
   ],
   "source": [
    "# Creating a tensor with random values between 0 and 1\n",
    "random_tensor = torch.rand(2,2)\n",
    "print(random_tensor)"
   ]
  },
  {
   "cell_type": "markdown",
   "metadata": {},
   "source": [
    "### 3. Creating Tensors with a Sequence of Numbers:\n",
    "You can create tensors with sequences of numbers using functions like `torch.arange` and `torch.linspace`."
   ]
  },
  {
   "cell_type": "code",
   "execution_count": 7,
   "metadata": {},
   "outputs": [
    {
     "name": "stdout",
     "output_type": "stream",
     "text": [
      "tensor([0, 2, 4, 6, 8])\n"
     ]
    }
   ],
   "source": [
    "# Creating a tensor with range of values\n",
    "range_tensor = torch.arange(0, 10, step=2)\n",
    "print(range_tensor)"
   ]
  },
  {
   "cell_type": "code",
   "execution_count": 8,
   "metadata": {},
   "outputs": [
    {
     "name": "stdout",
     "output_type": "stream",
     "text": [
      "tensor([0.0000, 0.2500, 0.5000, 0.7500, 1.0000])\n"
     ]
    }
   ],
   "source": [
    "# Creating a tensor with evenly spaces values\n",
    "linspace_tensor = torch.linspace(0, 1, steps=5)\n",
    "print(linspace_tensor)"
   ]
  },
  {
   "cell_type": "markdown",
   "metadata": {},
   "source": [
    "# Manipulating Tensors"
   ]
  },
  {
   "cell_type": "markdown",
   "metadata": {},
   "source": [
    "### 1. Tensor Shape and Size:\n",
    "You can access the shape and size of a tensor using the `shape` and `size` attributes."
   ]
  },
  {
   "cell_type": "code",
   "execution_count": 10,
   "metadata": {},
   "outputs": [
    {
     "name": "stdout",
     "output_type": "stream",
     "text": [
      "torch.Size([2, 3])\n",
      "torch.Size([2, 3])\n"
     ]
    }
   ],
   "source": [
    "tensor_x = torch.tensor([[1,2,3],[4,5,6]])\n",
    "print(tensor_x.shape)\n",
    "print(tensor_x.size())"
   ]
  },
  {
   "cell_type": "markdown",
   "metadata": {},
   "source": [
    "### 2. Reshaping Tensors:\n",
    "You can change the shape of a tensor using the `view` method or the `reshape` method."
   ]
  },
  {
   "cell_type": "code",
   "execution_count": 13,
   "metadata": {},
   "outputs": [
    {
     "name": "stdout",
     "output_type": "stream",
     "text": [
      "tensor([[1, 2, 3, 4],\n",
      "        [5, 6, 7, 8]])\n",
      "tensor([[1, 2],\n",
      "        [3, 4],\n",
      "        [5, 6],\n",
      "        [7, 8]])\n"
     ]
    }
   ],
   "source": [
    "tensor_y = torch.arange(1,9) #[1, 2, 3, 4, 5, 6, 7, 8]\n",
    "reshaped_tensor = tensor_y.view(2,4)\n",
    "reshaped_tensor_z = tensor_y.view(4,2)\n",
    "print(reshaped_tensor)\n",
    "print(reshaped_tensor_z)"
   ]
  },
  {
   "cell_type": "markdown",
   "metadata": {},
   "source": [
    "### 3. Tensor Slicing and Indexing:\n",
    "You can access specific elements or sub-tensors within a tensor."
   ]
  },
  {
   "cell_type": "code",
   "execution_count": 15,
   "metadata": {},
   "outputs": [
    {
     "name": "stdout",
     "output_type": "stream",
     "text": [
      "tensor(2)\n"
     ]
    }
   ],
   "source": [
    "tensor_x = torch.tensor([[1,2,3],[4,5,6]])\n",
    "print(tensor_x[0,1]) # Accessing the 1st(0th) row and 2nd(1st) column"
   ]
  },
  {
   "cell_type": "code",
   "execution_count": 17,
   "metadata": {},
   "outputs": [
    {
     "name": "stdout",
     "output_type": "stream",
     "text": [
      "tensor([[2, 3],\n",
      "        [5, 6]])\n"
     ]
    }
   ],
   "source": [
    "# Slicing\n",
    "print(tensor_x[:, 1:3]) # Get all rows, column 1 ans 2"
   ]
  },
  {
   "cell_type": "markdown",
   "metadata": {},
   "source": [
    "### 4. Element-wise multiplication\n",
    "PyTorch supports element-wise operations between tensors of the same shape"
   ]
  },
  {
   "cell_type": "code",
   "execution_count": 20,
   "metadata": {},
   "outputs": [
    {
     "name": "stdout",
     "output_type": "stream",
     "text": [
      "tensor([5, 7, 9])\n",
      "tensor([ 4, 10, 18])\n",
      "tensor([3, 3, 3])\n",
      "tensor([4.0000, 2.5000, 2.0000])\n"
     ]
    }
   ],
   "source": [
    "tensor_a = torch.tensor([1,2,3])\n",
    "tensor_b = torch.tensor([4,5,6])\n",
    "\n",
    "# Addition\n",
    "add = tensor_a + tensor_b\n",
    "print(add)\n",
    "\n",
    "# Element-wise multiplication\n",
    "multiplication = tensor_a * tensor_b\n",
    "print(multiplication)\n",
    "\n",
    "# Subtraction\n",
    "subtraction = tensor_b - tensor_a\n",
    "print(subtraction)\n",
    "\n",
    "# Division\n",
    "division = tensor_b / tensor_a\n",
    "print(division)"
   ]
  },
  {
   "cell_type": "markdown",
   "metadata": {},
   "source": [
    "### 5.In-Place Operation\n",
    "\n",
    "In-place operations modify the tensor directly and are denoted by an underscore at the end of the method name."
   ]
  },
  {
   "cell_type": "code",
   "execution_count": 24,
   "metadata": {},
   "outputs": [
    {
     "name": "stdout",
     "output_type": "stream",
     "text": [
      "tensor([6, 7, 8])\n"
     ]
    }
   ],
   "source": [
    "tensor = torch.tensor([1,2,3])\n",
    "tensor.add_(5) # Add 5 to each element of tensor\n",
    "print(tensor)"
   ]
  },
  {
   "cell_type": "markdown",
   "metadata": {},
   "source": [
    "### 6. Concatenating Tensors\n",
    "\n",
    "You can concatenate tensors along specified dimensions using `torch.cat`."
   ]
  },
  {
   "cell_type": "code",
   "execution_count": 29,
   "metadata": {},
   "outputs": [
    {
     "name": "stdout",
     "output_type": "stream",
     "text": [
      "tensor([[1, 2],\n",
      "        [3, 4],\n",
      "        [5, 6],\n",
      "        [7, 8]])\n"
     ]
    }
   ],
   "source": [
    "tensor_a = torch.tensor([[1,2], [3,4]])\n",
    "tensor_b = torch.tensor([[5,6], [7,8]])\n",
    "\n",
    "# Concatenating along rows (dimension 0)\n",
    "concatenated_tensor = torch.concat((tensor_a, tensor_b), dim=0)\n",
    "print(concatenated_tensor)"
   ]
  },
  {
   "cell_type": "code",
   "execution_count": 30,
   "metadata": {},
   "outputs": [
    {
     "name": "stdout",
     "output_type": "stream",
     "text": [
      "tensor([[1, 2, 5, 6],\n",
      "        [3, 4, 7, 8]])\n"
     ]
    }
   ],
   "source": [
    "# Concatenating along rows (dimension 1)\n",
    "concatenated_tensor = torch.concat((tensor_a, tensor_b), dim=1)\n",
    "print(concatenated_tensor)"
   ]
  }
 ],
 "metadata": {
  "kernelspec": {
   "display_name": "Python 3",
   "language": "python",
   "name": "python3"
  },
  "language_info": {
   "codemirror_mode": {
    "name": "ipython",
    "version": 3
   },
   "file_extension": ".py",
   "mimetype": "text/x-python",
   "name": "python",
   "nbconvert_exporter": "python",
   "pygments_lexer": "ipython3",
   "version": "3.10.12"
  }
 },
 "nbformat": 4,
 "nbformat_minor": 2
}

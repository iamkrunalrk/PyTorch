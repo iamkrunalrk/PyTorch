{
 "cells": [
  {
   "cell_type": "markdown",
   "metadata": {},
   "source": [
    "# Linear Algebra: Matrix Operation\n",
    "\n",
    "Linear algebra and matrix operations are fundamental concepts in PyTorch and deep learning. In this explanation, we'll delve deep into matrix operations in PyTorch, covering matrix creation, multiplication, addition, inversion, and more with detailed code examples."
   ]
  },
  {
   "cell_type": "markdown",
   "metadata": {},
   "source": [
    "### 1. Matrix Creation\n",
    "You can create matrices in PyTorch using tensors. Here's how to create matrices with PyTorch."
   ]
  },
  {
   "cell_type": "code",
   "execution_count": 6,
   "metadata": {},
   "outputs": [
    {
     "name": "stdout",
     "output_type": "stream",
     "text": [
      "tensor([[1, 2, 3],\n",
      "        [4, 5, 6]])\n",
      "tensor([[1., 0., 0.],\n",
      "        [0., 1., 0.],\n",
      "        [0., 0., 1.]])\n",
      "tensor([[0., 0.],\n",
      "        [0., 0.],\n",
      "        [0., 0.],\n",
      "        [0., 0.]])\n",
      "tensor([[0.7305, 0.8045],\n",
      "        [0.9396, 0.8582]])\n"
     ]
    }
   ],
   "source": [
    "import torch\n",
    "\n",
    "# Create a 2x3 matrix\n",
    "matrix = torch.tensor([[1, 2, 3],[4, 5, 6]])\n",
    "print(matrix)\n",
    "\n",
    "# Create identity matrix 3x3\n",
    "identity_matrix = torch.eye(3)\n",
    "print(identity_matrix)\n",
    "\n",
    "# Create a zero matrix 4x2\n",
    "zero_matrix = torch.zeros(4, 2)\n",
    "print(zero_matrix)\n",
    "\n",
    "# Create a random matrix 2x2\n",
    "random_matrix = torch.rand(2, 2)\n",
    "print(random_matrix)"
   ]
  },
  {
   "cell_type": "markdown",
   "metadata": {},
   "source": [
    "### 2. Matrix Multiplication\n",
    "\n",
    "Matrix multiplication is a fundamental operation in linear algebra and deep learning. In PyTorch, you can use the `torch.matmul()` function or the ' `@` ' operator for matrix multiplication."
   ]
  },
  {
   "cell_type": "code",
   "execution_count": 8,
   "metadata": {},
   "outputs": [
    {
     "data": {
      "text/plain": [
       "(tensor([[22, 25],\n",
       "         [50, 57]]),\n",
       " tensor([[22, 25],\n",
       "         [50, 57]]))"
      ]
     },
     "execution_count": 8,
     "metadata": {},
     "output_type": "execute_result"
    }
   ],
   "source": [
    "# Create matrices\n",
    "ten_a = torch.tensor([[1,2],[3,4]])\n",
    "ten_b = torch.tensor([[6,7],[8,9]])\n",
    "\n",
    "# Matrix multiplication using torch.matmul()\n",
    "mat_mul = torch.matmul(ten_a, ten_b)\n",
    "\n",
    "# Matrix multiplication using @ operator\n",
    "mat_mul_at = ten_a @ ten_b\n",
    "mat_mul, mat_mul_at"
   ]
  },
  {
   "cell_type": "markdown",
   "metadata": {},
   "source": [
    "### 3. Matrix Transpose\n",
    "\n",
    "Transposing a matrix flips its rows and columns. You can use `torch.transpose()` or the `.t` attribute for transposition."
   ]
  },
  {
   "cell_type": "code",
   "execution_count": 17,
   "metadata": {},
   "outputs": [
    {
     "data": {
      "text/plain": [
       "(tensor([[1., 5.],\n",
       "         [2., 6.]]),\n",
       " tensor([[1., 5.],\n",
       "         [2., 6.]]))"
      ]
     },
     "execution_count": 17,
     "metadata": {},
     "output_type": "execute_result"
    }
   ],
   "source": [
    "# Create a Matrix\n",
    "A = torch.tensor([[1.0, 2.0], [5.0, 6.0]])\n",
    "\n",
    "# Transpose using torch.transpose()\n",
    "A_transpose = torch.transpose(A, 0, 1)\n",
    "\n",
    "# Transpose using .t attribute\n",
    "transpose_A = A.t()\n",
    "\n",
    "A_transpose, transpose_A"
   ]
  },
  {
   "cell_type": "markdown",
   "metadata": {},
   "source": [
    "### 4. Matrix Inversion\n",
    "\n",
    "To compute the inverse of a matrix, you can use the `torch.inverse()` function. Note that not all matrices have inverses."
   ]
  },
  {
   "cell_type": "code",
   "execution_count": 19,
   "metadata": {},
   "outputs": [
    {
     "data": {
      "text/plain": [
       "tensor([[-1.5000,  0.5000],\n",
       "        [ 1.2500, -0.2500]])"
      ]
     },
     "execution_count": 19,
     "metadata": {},
     "output_type": "execute_result"
    }
   ],
   "source": [
    "# Compute the inverse\n",
    "A_inverse = torch.inverse(A)\n",
    "A_inverse"
   ]
  },
  {
   "cell_type": "markdown",
   "metadata": {},
   "source": [
    "### 5. Matrix Determinant\n",
    "\n",
    "You can calculate the determinant of a square matrix using `torch.det()`."
   ]
  },
  {
   "cell_type": "code",
   "execution_count": 20,
   "metadata": {},
   "outputs": [
    {
     "data": {
      "text/plain": [
       "tensor(-4.)"
      ]
     },
     "execution_count": 20,
     "metadata": {},
     "output_type": "execute_result"
    }
   ],
   "source": [
    "determinant = torch.det(A)\n",
    "determinant"
   ]
  },
  {
   "cell_type": "markdown",
   "metadata": {},
   "source": [
    "# Vectorization\n",
    "\n",
    "Vectorization is a key concept in PyTorch and deep learning that involves performing operations on entire vectors or matrices at once, rather than using explicit loops. It's essential for efficient numerical computations. In this explanation, we'll delve deep into vectorization in PyTorch, covering its benefits and providing detailed code examples.\n",
    "\n",
    "### Understanding Vectorization\n",
    "Vectorization is a technique that allows us to perform operations on entire vectors, matrices, or even higher-dimensional tensors without explicitly writing loops. It leverages low-level optimizations in hardware and libraries to speed up computations significantly. Vectorized code is not only more efficient but also often more concise and readable.\n",
    "\n",
    "### Benefits of Vectorization\n",
    "**Efficiency**: Vectorized operations are optimized for parallel processing, making them much faster than equivalent loop-based operations.\n",
    "\n",
    "**Simplicity**: Vectorized code is often simpler and more readable, reducing the chance of bugs and making the code easier to maintain.\n",
    "\n",
    "**Portability**: Vectorized operations can be executed on CPUs and GPUs, providing hardware independence."
   ]
  },
  {
   "cell_type": "markdown",
   "metadata": {},
   "source": [
    "## Vectorized Operations in PyTorch\n",
    "\n",
    "PyTorch is designed to work seamlessly with vectorized operations. Here are some common vectorized operations in PyTorch:\n",
    "\n",
    "\n",
    "### 1. Example: Calculating the Mean of a Large Dataset\n",
    "\n",
    "Here's an example that demonstrates the efficiency of vectorized operations when calculating the mean of a large dataset:"
   ]
  },
  {
   "cell_type": "code",
   "execution_count": 3,
   "metadata": {},
   "outputs": [
    {
     "name": "stdout",
     "output_type": "stream",
     "text": [
      "Mean (loop): tensor(-0.0014)\n",
      "Mean (vectorized): tensor(-0.0014)\n",
      "Time (loop): 3.159731864929199\n",
      "Time (vectorized): 0.00028395652770996094\n"
     ]
    }
   ],
   "source": [
    "import time\n",
    "\n",
    "# Generate a large random dataset\n",
    "data = torch.randn(1000000)\n",
    "\n",
    "# Using loops (non-vectorized)\n",
    "start_time = time.time()\n",
    "mean_loop = sum(data) / len(data)\n",
    "loop_time = time.time() - start_time\n",
    "\n",
    "# Using vectorized operations\n",
    "v_start_time = time.time()  # Corrected variable name\n",
    "mean_vectorized = torch.mean(data)\n",
    "vectorized_time = time.time() - v_start_time\n",
    "\n",
    "print(\"Mean (loop):\", mean_loop)\n",
    "print(\"Mean (vectorized):\", mean_vectorized)\n",
    "print(\"Time (loop):\", loop_time)\n",
    "print(\"Time (vectorized):\", vectorized_time)"
   ]
  },
  {
   "cell_type": "markdown",
   "metadata": {},
   "source": [
    "In this example, you'll notice that the vectorized operation is significantly faster, especially with large datasets."
   ]
  }
 ],
 "metadata": {
  "kernelspec": {
   "display_name": "Python 3",
   "language": "python",
   "name": "python3"
  },
  "language_info": {
   "codemirror_mode": {
    "name": "ipython",
    "version": 3
   },
   "file_extension": ".py",
   "mimetype": "text/x-python",
   "name": "python",
   "nbconvert_exporter": "python",
   "pygments_lexer": "ipython3",
   "version": "3.10.12"
  }
 },
 "nbformat": 4,
 "nbformat_minor": 2
}
